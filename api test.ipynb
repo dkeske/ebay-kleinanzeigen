{
 "cells": [
  {
   "cell_type": "code",
   "execution_count": 198,
   "metadata": {
    "collapsed": false
   },
   "outputs": [],
   "source": [
    "import requests as r\n",
    "from bs4 import BeautifulSoup\n",
    "def scrape_page_range(query, start, end):\n",
    "    items = []\n",
    "    for i in range(start, end+1):\n",
    "        req = r.get(\"https://www.ebay-kleinanzeigen.de/s-pc-zubehoer-software/seite:{}/{}/k0c225\".format(i,query))\n",
    "        html_doc = req.text\n",
    "        items.extend(get_items_on_page(html_doc))\n",
    "    return items"
   ]
  },
  {
   "cell_type": "code",
   "execution_count": 199,
   "metadata": {
    "collapsed": false
   },
   "outputs": [],
   "source": [
    "def get_items_on_page(html_doc):\n",
    "    soup = BeautifulSoup(html_doc, 'html.parser')\n",
    "    items_ul = soup.select_one(\"#srchrslt-adtable\")\n",
    "    all_items = items_ul.find_all(\"li\")\n",
    "    items_list = []\n",
    "    for item in all_items:\n",
    "        try:\n",
    "            section1 = item.article.select_one(\"section.aditem-main\")\n",
    "            section2 = item.article.select_one(\"section.aditem-details\")\n",
    "            title = section1.h2.a.text\n",
    "            url = section1.h2.a.attrs['href']\n",
    "            short_desc = section1.p.text\n",
    "            price = section2.strong.text\n",
    "            address = \", \".join(section2.findChildren()[1].get_text().split())\n",
    "            items_list.append([title, price, short_desc, address, url])\n",
    "        except AttributeError:\n",
    "            pass\n",
    "    return items_list"
   ]
  },
  {
   "cell_type": "code",
   "execution_count": 200,
   "metadata": {
    "collapsed": false
   },
   "outputs": [],
   "source": [
    "items = scrape_page_range('gtx-780', 1,6)"
   ]
  },
  {
   "cell_type": "code",
   "execution_count": 201,
   "metadata": {
    "collapsed": false
   },
   "outputs": [],
   "source": [
    "import pandas as pd\n",
    "import re\n",
    "df = pd.DataFrame(items, columns=['title', 'price', 'desc', 'address', 'url'])\n",
    "df.price = df.price.apply(lambda x: re.sub(r\"\\D\", \"\", x))\n",
    "df.price = pd.to_numeric(df.price)\n",
    "df = df.sort_values(\"price\")"
   ]
  },
  {
   "cell_type": "code",
   "execution_count": 202,
   "metadata": {
    "collapsed": false
   },
   "outputs": [
    {
     "data": {
      "text/plain": [
       "(69, 5)"
      ]
     },
     "execution_count": 202,
     "metadata": {},
     "output_type": "execute_result"
    }
   ],
   "source": [
    "df.shape"
   ]
  },
  {
   "cell_type": "code",
   "execution_count": 203,
   "metadata": {
    "collapsed": false
   },
   "outputs": [
    {
     "data": {
      "text/html": [
       "<div>\n",
       "<table border=\"1\" class=\"dataframe\">\n",
       "  <thead>\n",
       "    <tr style=\"text-align: right;\">\n",
       "      <th></th>\n",
       "      <th>title</th>\n",
       "      <th>price</th>\n",
       "      <th>desc</th>\n",
       "      <th>address</th>\n",
       "      <th>url</th>\n",
       "    </tr>\n",
       "  </thead>\n",
       "  <tbody>\n",
       "    <tr>\n",
       "      <th>49</th>\n",
       "      <td>Kühler EVGA GeForce GTX 780 unbenutzt</td>\n",
       "      <td>20.0</td>\n",
       "      <td>Hallo,\\n\\nVerkaufe unbenutzten Kühler(nur der ...</td>\n",
       "      <td>07745, Jena</td>\n",
       "      <td>/s-anzeige/kuehler-evga-geforce-gtx-780-unbenu...</td>\n",
       "    </tr>\n",
       "    <tr>\n",
       "      <th>66</th>\n",
       "      <td>GTX 780 Wasserkühlung</td>\n",
       "      <td>30.0</td>\n",
       "      <td>EK-Wasserkühler für ASUS R9 290(X) DirectCU II...</td>\n",
       "      <td>74653, Künzelsau</td>\n",
       "      <td>/s-anzeige/gtx-780-wasserkuehlung/538279962-22...</td>\n",
       "    </tr>\n",
       "    <tr>\n",
       "      <th>0</th>\n",
       "      <td>Original Gainward Phenom GTX 780 Ti Kühlkörper...</td>\n",
       "      <td>35.0</td>\n",
       "      <td>Verkaufe meinen original Lüfter der Gainward G...</td>\n",
       "      <td>70567, Möhringen</td>\n",
       "      <td>/s-anzeige/original-gainward-phenom-gtx-780-ti...</td>\n",
       "    </tr>\n",
       "    <tr>\n",
       "      <th>20</th>\n",
       "      <td>EKWB GTX Titan/GTX 780 - Acetal+Nickel Kühlblo...</td>\n",
       "      <td>35.0</td>\n",
       "      <td>Ich verkaufe meinen Kühlblock für eine GTX 780...</td>\n",
       "      <td>52074, Laurensberg</td>\n",
       "      <td>/s-anzeige/ekwb-gtx-titan-gtx-780-acetal-nicke...</td>\n",
       "    </tr>\n",
       "    <tr>\n",
       "      <th>23</th>\n",
       "      <td>Inno3D GeForce GTX 780 iChill HerculeZ X3 Ultr...</td>\n",
       "      <td>60.0</td>\n",
       "      <td>Hallo zusammen\\n\\nverkaufe hier eine defekte I...</td>\n",
       "      <td>71106, Magstadt</td>\n",
       "      <td>/s-anzeige/inno3d-geforce-gtx-780-ichill-hercu...</td>\n",
       "    </tr>\n",
       "    <tr>\n",
       "      <th>11</th>\n",
       "      <td>Gigabyte GTX 780 Ghz Edition in OVP</td>\n",
       "      <td>100.0</td>\n",
       "      <td>Gigabyte GTX 780 Ghz Edition\\n\\n- Top Zustand ...</td>\n",
       "      <td>04157, Nord</td>\n",
       "      <td>/s-anzeige/gigabyte-gtx-780-ghz-edition-in-ovp...</td>\n",
       "    </tr>\n",
       "    <tr>\n",
       "      <th>2</th>\n",
       "      <td>ASUS GeForce GTX 780 Direct CU II OC mit 3GB V...</td>\n",
       "      <td>105.0</td>\n",
       "      <td>Hallo,\\n\\nich verkaufe meine ASUS GeForce GTX ...</td>\n",
       "      <td>48527, Nordhorn</td>\n",
       "      <td>/s-anzeige/asus-geforce-gtx-780-direct-cu-ii-o...</td>\n",
       "    </tr>\n",
       "    <tr>\n",
       "      <th>13</th>\n",
       "      <td>ASUS GeForce GTX 780 Direct CU II OC mit 3GB V...</td>\n",
       "      <td>105.0</td>\n",
       "      <td>Hallo,\\n\\nich verkaufe meine ASUS GeForce GTX ...</td>\n",
       "      <td>48527, Nordhorn</td>\n",
       "      <td>/s-anzeige/asus-geforce-gtx-780-direct-cu-ii-o...</td>\n",
       "    </tr>\n",
       "    <tr>\n",
       "      <th>6</th>\n",
       "      <td>ZOTAC GeForce GTX 780 AMP!</td>\n",
       "      <td>115.0</td>\n",
       "      <td>Verkaufe hier meine geliebte GTX 780 in gutem ...</td>\n",
       "      <td>35745, Herborn</td>\n",
       "      <td>/s-anzeige/zotac-geforce-gtx-780-amp-/62606056...</td>\n",
       "    </tr>\n",
       "    <tr>\n",
       "      <th>1</th>\n",
       "      <td>Gtx 780 Windforce x3 Edition</td>\n",
       "      <td>115.0</td>\n",
       "      <td>Ohne Ovp funktioniert jedoch einwandfrei.\\nVer...</td>\n",
       "      <td>04105, Mitte</td>\n",
       "      <td>/s-anzeige/gtx-780-windforce-x3-edition/626586...</td>\n",
       "    </tr>\n",
       "    <tr>\n",
       "      <th>14</th>\n",
       "      <td>Geforce GTX 780 Inno3d ichill Herculez 3GB GDDR5</td>\n",
       "      <td>120.0</td>\n",
       "      <td>Verkaufe meine Grafikkarte wie oben genannt, d...</td>\n",
       "      <td>54649, Oberpierscheid</td>\n",
       "      <td>/s-anzeige/geforce-gtx-780-inno3d-ichill-hercu...</td>\n",
       "    </tr>\n",
       "    <tr>\n",
       "      <th>55</th>\n",
       "      <td>Asus GTX 780 3GB GDDR5 DirectCU II</td>\n",
       "      <td>120.0</td>\n",
       "      <td>Verkaufe meine GTX 780 von Asus. Grund will mi...</td>\n",
       "      <td>44289, Dortmund-&amp;#</td>\n",
       "      <td>/s-anzeige/asus-gtx-780-3gb-gddr5-directcu-ii/...</td>\n",
       "    </tr>\n",
       "    <tr>\n",
       "      <th>21</th>\n",
       "      <td>Gigabyte Gtx 780 Windforce x3</td>\n",
       "      <td>125.0</td>\n",
       "      <td>Funktion einwandfrei, ovp leider nicht mehr vo...</td>\n",
       "      <td>04105, Mitte</td>\n",
       "      <td>/s-anzeige/gigabyte-gtx-780-windforce-x3/62418...</td>\n",
       "    </tr>\n",
       "    <tr>\n",
       "      <th>59</th>\n",
       "      <td>GeForce Grafikkarte GTX 780</td>\n",
       "      <td>130.0</td>\n",
       "      <td>Ich verkaufe eine gebrauchte 100% funktionstüc...</td>\n",
       "      <td>81541, Obergiesing</td>\n",
       "      <td>/s-anzeige/geforce-grafikkarte-gtx-780/6063447...</td>\n",
       "    </tr>\n",
       "    <tr>\n",
       "      <th>48</th>\n",
       "      <td>ASUS GeForce GTX 780 OC Edition 3GB</td>\n",
       "      <td>130.0</td>\n",
       "      <td>Verkaufe hier eine 3 Jahre alte ASUS GeForce G...</td>\n",
       "      <td>10551, Mitte</td>\n",
       "      <td>/s-anzeige/asus-geforce-gtx-780-oc-edition-3gb...</td>\n",
       "    </tr>\n",
       "  </tbody>\n",
       "</table>\n",
       "</div>"
      ],
      "text/plain": [
       "                                                title  price  \\\n",
       "49              Kühler EVGA GeForce GTX 780 unbenutzt   20.0   \n",
       "66                              GTX 780 Wasserkühlung   30.0   \n",
       "0   Original Gainward Phenom GTX 780 Ti Kühlkörper...   35.0   \n",
       "20  EKWB GTX Titan/GTX 780 - Acetal+Nickel Kühlblo...   35.0   \n",
       "23  Inno3D GeForce GTX 780 iChill HerculeZ X3 Ultr...   60.0   \n",
       "11                Gigabyte GTX 780 Ghz Edition in OVP  100.0   \n",
       "2   ASUS GeForce GTX 780 Direct CU II OC mit 3GB V...  105.0   \n",
       "13  ASUS GeForce GTX 780 Direct CU II OC mit 3GB V...  105.0   \n",
       "6                          ZOTAC GeForce GTX 780 AMP!  115.0   \n",
       "1                        Gtx 780 Windforce x3 Edition  115.0   \n",
       "14   Geforce GTX 780 Inno3d ichill Herculez 3GB GDDR5  120.0   \n",
       "55                 Asus GTX 780 3GB GDDR5 DirectCU II  120.0   \n",
       "21                      Gigabyte Gtx 780 Windforce x3  125.0   \n",
       "59                        GeForce Grafikkarte GTX 780  130.0   \n",
       "48                ASUS GeForce GTX 780 OC Edition 3GB  130.0   \n",
       "\n",
       "                                                 desc                address  \\\n",
       "49  Hallo,\\n\\nVerkaufe unbenutzten Kühler(nur der ...            07745, Jena   \n",
       "66  EK-Wasserkühler für ASUS R9 290(X) DirectCU II...       74653, Künzelsau   \n",
       "0   Verkaufe meinen original Lüfter der Gainward G...       70567, Möhringen   \n",
       "20  Ich verkaufe meinen Kühlblock für eine GTX 780...     52074, Laurensberg   \n",
       "23  Hallo zusammen\\n\\nverkaufe hier eine defekte I...        71106, Magstadt   \n",
       "11  Gigabyte GTX 780 Ghz Edition\\n\\n- Top Zustand ...            04157, Nord   \n",
       "2   Hallo,\\n\\nich verkaufe meine ASUS GeForce GTX ...        48527, Nordhorn   \n",
       "13  Hallo,\\n\\nich verkaufe meine ASUS GeForce GTX ...        48527, Nordhorn   \n",
       "6   Verkaufe hier meine geliebte GTX 780 in gutem ...         35745, Herborn   \n",
       "1   Ohne Ovp funktioniert jedoch einwandfrei.\\nVer...           04105, Mitte   \n",
       "14  Verkaufe meine Grafikkarte wie oben genannt, d...  54649, Oberpierscheid   \n",
       "55  Verkaufe meine GTX 780 von Asus. Grund will mi...     44289, Dortmund-&#   \n",
       "21  Funktion einwandfrei, ovp leider nicht mehr vo...           04105, Mitte   \n",
       "59  Ich verkaufe eine gebrauchte 100% funktionstüc...     81541, Obergiesing   \n",
       "48  Verkaufe hier eine 3 Jahre alte ASUS GeForce G...           10551, Mitte   \n",
       "\n",
       "                                                  url  \n",
       "49  /s-anzeige/kuehler-evga-geforce-gtx-780-unbenu...  \n",
       "66  /s-anzeige/gtx-780-wasserkuehlung/538279962-22...  \n",
       "0   /s-anzeige/original-gainward-phenom-gtx-780-ti...  \n",
       "20  /s-anzeige/ekwb-gtx-titan-gtx-780-acetal-nicke...  \n",
       "23  /s-anzeige/inno3d-geforce-gtx-780-ichill-hercu...  \n",
       "11  /s-anzeige/gigabyte-gtx-780-ghz-edition-in-ovp...  \n",
       "2   /s-anzeige/asus-geforce-gtx-780-direct-cu-ii-o...  \n",
       "13  /s-anzeige/asus-geforce-gtx-780-direct-cu-ii-o...  \n",
       "6   /s-anzeige/zotac-geforce-gtx-780-amp-/62606056...  \n",
       "1   /s-anzeige/gtx-780-windforce-x3-edition/626586...  \n",
       "14  /s-anzeige/geforce-gtx-780-inno3d-ichill-hercu...  \n",
       "55  /s-anzeige/asus-gtx-780-3gb-gddr5-directcu-ii/...  \n",
       "21  /s-anzeige/gigabyte-gtx-780-windforce-x3/62418...  \n",
       "59  /s-anzeige/geforce-grafikkarte-gtx-780/6063447...  \n",
       "48  /s-anzeige/asus-geforce-gtx-780-oc-edition-3gb...  "
      ]
     },
     "execution_count": 203,
     "metadata": {},
     "output_type": "execute_result"
    }
   ],
   "source": [
    "df.head(15)"
   ]
  },
  {
   "cell_type": "code",
   "execution_count": 160,
   "metadata": {
    "collapsed": false
   },
   "outputs": [
    {
     "data": {
      "text/plain": [
       "'/s-anzeige/powercolor-r9-280x-turbo-duo-3gb-siehe-video-beweis-/626370312-225-3005'"
      ]
     },
     "execution_count": 160,
     "metadata": {},
     "output_type": "execute_result"
    }
   ],
   "source": [
    "df.ix[5].url"
   ]
  }
 ],
 "metadata": {
  "anaconda-cloud": {},
  "kernelspec": {
   "display_name": "Python [conda root]",
   "language": "python",
   "name": "conda-root-py"
  },
  "language_info": {
   "codemirror_mode": {
    "name": "ipython",
    "version": 3
   },
   "file_extension": ".py",
   "mimetype": "text/x-python",
   "name": "python",
   "nbconvert_exporter": "python",
   "pygments_lexer": "ipython3",
   "version": "3.5.2"
  }
 },
 "nbformat": 4,
 "nbformat_minor": 2
}
