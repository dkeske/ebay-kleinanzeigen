{
 "cells": [
  {
   "cell_type": "code",
   "execution_count": 58,
   "metadata": {
    "collapsed": false
   },
   "outputs": [],
   "source": [
    "import requests as r\n",
    "from bs4 import BeautifulSoup\n",
    "def scrape_page_range(keywords, start, end):\n",
    "    items = []\n",
    "    for page in range(start, end+1):\n",
    "        category = '10'\n",
    "        keywords = '280x'\n",
    "        group_id = '102'\n",
    "        req = r.get(\"\"\"http://www.kupujemprodajem.com/Graficke-kartice-10-102-2-grupa.htm?\n",
    "        action=list&data%5Bcategory_id%5D={}&data%5Bgroup_id%5D={}&data%5Bno_price%5D=yes&data%5B\n",
    "        page%5D={}&data%5Blist_type%5D=group&data%5Bkeywords%5D={}\"\"\".format(category, group_id, page, keywords))\n",
    "        html_doc = req.text\n",
    "        items.extend(get_items_on_page(html_doc))\n",
    "    return items"
   ]
  },
  {
   "cell_type": "code",
   "execution_count": 59,
   "metadata": {
    "collapsed": true
   },
   "outputs": [],
   "source": [
    "def get_items_on_page(html_doc):\n",
    "    soup = BeautifulSoup(html_doc, 'html.parser')\n",
    "    items_div = soup.select_one(\".adListContainer\")\n",
    "    all_items = items_div.select(\"div.item.clearfix\")\n",
    "    items_list = []\n",
    "    for item in all_items:\n",
    "        try:\n",
    "            section1 = item.div.select_one(\"section.nameSec\")\n",
    "            section2 = item.div.select_one(\"section.priceSec\")\n",
    "            section3 = item.div.select_one(\"section.viewsSec\")\n",
    "            title = section1.div.a.text\n",
    "            url = section1.div.a.attrs['href']\n",
    "            short_desc = section1.div.next_sibling.next_sibling.text\n",
    "            price = section2.span.text\n",
    "            address = section3.text\n",
    "            items_list.append([title, price, short_desc, address, url])\n",
    "        except AttributeError:\n",
    "            print(item)\n",
    "    return items_list"
   ]
  },
  {
   "cell_type": "code",
   "execution_count": 60,
   "metadata": {
    "collapsed": false
   },
   "outputs": [
    {
     "name": "stdout",
     "output_type": "stream",
     "text": [
      "<div class=\"item head clearfix\">\n",
      "<section class=\"messageSec\"><a href=\"/promocije-oglasa.htm\" target=\"_blank\">VaÅ¡ oglas ispred drugih?  Saznajte viÅ¡e.</a></section>\n",
      "<section class=\"priceSec\">Cena</section>\n",
      "<section class=\"viewsSec\">ViÄen</section>\n",
      "<section class=\"locationSec\">Mesto/Grad</section>\n",
      "</div>\n",
      "<div class=\"item head clearfix\">\n",
      "<section class=\"messageSec\"><a href=\"/promocije-oglasa.htm\" target=\"_blank\">VaÅ¡ oglas ispred drugih?  Saznajte viÅ¡e.</a></section>\n",
      "<section class=\"priceSec\">Cena</section>\n",
      "<section class=\"viewsSec\">ViÄen</section>\n",
      "<section class=\"locationSec\">Mesto/Grad</section>\n",
      "</div>\n"
     ]
    }
   ],
   "source": [
    "items = scrape_page_range('280x', 1,2)"
   ]
  },
  {
   "cell_type": "code",
   "execution_count": 61,
   "metadata": {
    "collapsed": false
   },
   "outputs": [
    {
     "data": {
      "text/plain": [
       "[['R9 280x TOXIC 3gb DDR5 386 bit-a',\n",
       "  '\\n\\t\\t\\t\\t\\t\\t130,00\\xa0€\\n\\t\\t\\t\\t\\t',\n",
       "  '\\n\\t\\t\\t\\t\\t\\t\\n\\t\\t\\t\\t\\t\\tPrava gejmerska kartica, sve naslove gura na HIGH ULTRA u ...\\n\\t\\t\\t\\t\\t',\n",
       "  '\\n\\t\\t\\t\\t\\t\\t102\\n\\n\\t\\t\\t\\t\\t\\t\\npostavljen\\n\\t\\t\\t\\t\\t\\t\\tpre nedelju dana\\n\\n',\n",
       "  'R9-280x-TOXIC-3gb-DDR5-386-bit-a-44316444-oglas.htm'],\n",
       " ['R9 280x windforce OC TOP',\n",
       "  '\\n\\t\\t\\t\\t\\t\\t170,00\\xa0€\\n\\t\\t\\t\\t\\t',\n",
       "  '\\n\\t\\t\\t\\t\\t\\t\\n\\t\\t\\t\\t\\t\\tModel kao u naslovu, grafika koja nikada nije imala problema ...\\n\\t\\t\\t\\t\\t',\n",
       "  '\\n\\t\\t\\t\\t\\t\\t55\\n\\n\\t\\t\\t\\t\\t\\t\\npostavljen\\n\\t\\t\\t\\t\\t\\t\\tpre 2 nedelje\\n\\n',\n",
       "  'R9-280x-windforce-OC-TOP-43880437-oglas.htm'],\n",
       " ['Sapphire AMD Radeon R9 280X Vapor-X OC 3GB',\n",
       "  '\\n\\t\\t\\t\\t\\t\\t120,00\\xa0€\\n\\t\\t\\t\\t\\t',\n",
       "  '\\n\\t\\t\\t\\t\\t\\t\\n\\t\\t\\t\\t\\t\\tKartica moja licna kupljena kod madjara pre oko 2god, radi ...\\n\\t\\t\\t\\t\\t',\n",
       "  '\\n\\t\\t\\t\\t\\t\\t198\\n\\n\\t\\t\\t\\t\\t\\t\\npostavljen\\n\\t\\t\\t\\t\\t\\t\\tpre 2 nedelje\\n\\n',\n",
       "  'Sapphire-AMD-Radeon-R9-280X-Vapor-X-OC-3GB-43867727-oglas.htm'],\n",
       " ['Asus Ati Radeon R9 280X',\n",
       "  '\\n\\t\\t\\t\\t\\t\\t17.499\\xa0din\\n\\t\\t\\t\\t\\t',\n",
       "  '\\n\\t\\t\\t\\t\\t\\t\\n\\t\\t\\t\\t\\t\\tProdajem karticu iz naslova. KlasiÄ\\x8dno koriÅ¡Ä\\x87enje i povremeno igranje. Garancija ...\\n\\t\\t\\t\\t\\t',\n",
       "  '\\n\\t\\t\\t\\t\\t\\t108\\n\\n\\t\\t\\t\\t\\t\\t\\npostavljen\\n\\t\\t\\t\\t\\t\\t\\tpre 3 nedelje\\n\\n',\n",
       "  'Asus-Ati-Radeon-R9-280X-43762826-oglas.htm'],\n",
       " ['r9 280x twin frozr',\n",
       "  '\\n\\t\\t\\t\\t\\t\\t110,00\\xa0€\\n\\t\\t\\t\\t\\t',\n",
       "  '\\n\\t\\t\\t\\t\\t\\t\\n\\t\\t\\t\\t\\t\\tResio sam da imak predjem na neku slabiju al nvidia ...\\n\\t\\t\\t\\t\\t',\n",
       "  '\\n\\t\\t\\t\\t\\t\\t573\\n\\n\\t\\t\\t\\t\\t\\t\\n(obnovljen)\\n\\t\\t\\t\\t\\t\\t\\t\\n\\t\\t\\t\\t\\t\\t\\tpre 3 nedelje\\n\\n',\n",
       "  'r9-280x-twin-frozr-43284269-oglas.htm'],\n",
       " ['Sapphire R9 280x Vapor-X 3GB',\n",
       "  '\\n\\t\\t\\t\\t\\t\\t120,00\\xa0€\\n\\t\\t\\t\\t\\t',\n",
       "  '\\n\\t\\t\\t\\t\\t\\t\\n\\t\\t\\t\\t\\t\\tKartica je kod mene godinu dana, nedavno su joj kuleri ...\\n\\t\\t\\t\\t\\t',\n",
       "  '\\n\\t\\t\\t\\t\\t\\t205\\n\\n\\t\\t\\t\\t\\t\\t\\npostavljen\\n\\t\\t\\t\\t\\t\\t\\tpre 2 nedelje\\n\\n',\n",
       "  'Sapphire-R9-280x-Vapor-X-3GB-43809615-oglas.htm'],\n",
       " ['R9 280x TOXIC 3gb DDR5 386 bit-a',\n",
       "  '\\n\\t\\t\\t\\t\\t\\t130,00\\xa0€\\n\\t\\t\\t\\t\\t',\n",
       "  '\\n\\t\\t\\t\\t\\t\\t\\n\\t\\t\\t\\t\\t\\tPrava gejmerska kartica, sve naslove gura na HIGH ULTRA u ...\\n\\t\\t\\t\\t\\t',\n",
       "  '\\n\\t\\t\\t\\t\\t\\t102\\n\\n\\t\\t\\t\\t\\t\\t\\npostavljen\\n\\t\\t\\t\\t\\t\\t\\tpre nedelju dana\\n\\n',\n",
       "  'R9-280x-TOXIC-3gb-DDR5-386-bit-a-44316444-oglas.htm'],\n",
       " ['R9 280x windforce OC TOP',\n",
       "  '\\n\\t\\t\\t\\t\\t\\t170,00\\xa0€\\n\\t\\t\\t\\t\\t',\n",
       "  '\\n\\t\\t\\t\\t\\t\\t\\n\\t\\t\\t\\t\\t\\tModel kao u naslovu, grafika koja nikada nije imala problema ...\\n\\t\\t\\t\\t\\t',\n",
       "  '\\n\\t\\t\\t\\t\\t\\t55\\n\\n\\t\\t\\t\\t\\t\\t\\npostavljen\\n\\t\\t\\t\\t\\t\\t\\tpre 2 nedelje\\n\\n',\n",
       "  'R9-280x-windforce-OC-TOP-43880437-oglas.htm'],\n",
       " ['Sapphire AMD Radeon R9 280X Vapor-X OC 3GB',\n",
       "  '\\n\\t\\t\\t\\t\\t\\t120,00\\xa0€\\n\\t\\t\\t\\t\\t',\n",
       "  '\\n\\t\\t\\t\\t\\t\\t\\n\\t\\t\\t\\t\\t\\tKartica moja licna kupljena kod madjara pre oko 2god, radi ...\\n\\t\\t\\t\\t\\t',\n",
       "  '\\n\\t\\t\\t\\t\\t\\t198\\n\\n\\t\\t\\t\\t\\t\\t\\npostavljen\\n\\t\\t\\t\\t\\t\\t\\tpre 2 nedelje\\n\\n',\n",
       "  'Sapphire-AMD-Radeon-R9-280X-Vapor-X-OC-3GB-43867727-oglas.htm'],\n",
       " ['Asus Ati Radeon R9 280X',\n",
       "  '\\n\\t\\t\\t\\t\\t\\t17.499\\xa0din\\n\\t\\t\\t\\t\\t',\n",
       "  '\\n\\t\\t\\t\\t\\t\\t\\n\\t\\t\\t\\t\\t\\tProdajem karticu iz naslova. KlasiÄ\\x8dno koriÅ¡Ä\\x87enje i povremeno igranje. Garancija ...\\n\\t\\t\\t\\t\\t',\n",
       "  '\\n\\t\\t\\t\\t\\t\\t108\\n\\n\\t\\t\\t\\t\\t\\t\\npostavljen\\n\\t\\t\\t\\t\\t\\t\\tpre 3 nedelje\\n\\n',\n",
       "  'Asus-Ati-Radeon-R9-280X-43762826-oglas.htm'],\n",
       " ['r9 280x twin frozr',\n",
       "  '\\n\\t\\t\\t\\t\\t\\t110,00\\xa0€\\n\\t\\t\\t\\t\\t',\n",
       "  '\\n\\t\\t\\t\\t\\t\\t\\n\\t\\t\\t\\t\\t\\tResio sam da imak predjem na neku slabiju al nvidia ...\\n\\t\\t\\t\\t\\t',\n",
       "  '\\n\\t\\t\\t\\t\\t\\t573\\n\\n\\t\\t\\t\\t\\t\\t\\n(obnovljen)\\n\\t\\t\\t\\t\\t\\t\\t\\n\\t\\t\\t\\t\\t\\t\\tpre 3 nedelje\\n\\n',\n",
       "  'r9-280x-twin-frozr-43284269-oglas.htm'],\n",
       " ['Sapphire R9 280x Vapor-X 3GB',\n",
       "  '\\n\\t\\t\\t\\t\\t\\t120,00\\xa0€\\n\\t\\t\\t\\t\\t',\n",
       "  '\\n\\t\\t\\t\\t\\t\\t\\n\\t\\t\\t\\t\\t\\tKartica je kod mene godinu dana, nedavno su joj kuleri ...\\n\\t\\t\\t\\t\\t',\n",
       "  '\\n\\t\\t\\t\\t\\t\\t205\\n\\n\\t\\t\\t\\t\\t\\t\\npostavljen\\n\\t\\t\\t\\t\\t\\t\\tpre 2 nedelje\\n\\n',\n",
       "  'Sapphire-R9-280x-Vapor-X-3GB-43809615-oglas.htm']]"
      ]
     },
     "execution_count": 61,
     "metadata": {},
     "output_type": "execute_result"
    }
   ],
   "source": [
    "items"
   ]
  },
  {
   "cell_type": "code",
   "execution_count": 63,
   "metadata": {
    "collapsed": false,
    "scrolled": true
   },
   "outputs": [],
   "source": [
    "page = 1\n",
    "category = '10'\n",
    "keywords = '280x'\n",
    "group_id = '102'\n",
    "req = r.get(\"\"\"http://www.kupujemprodajem.com/Graficke-kartice-10-102-2-grupa.htm?action=list&data%5Bcategory_id%5D={}&data%5Bgroup_id%5D={}&data%5Bno_price%5D=yes&data%5Bpage%5D={}&data%5Blist_type%5D=group&data%5Bkeywords%5D={}\"\"\".format(category, group_id, page, keywords))\n",
    "html_doc = req.text\n",
    "soup = BeautifulSoup(html_doc, 'html.parser')\n",
    "items_div = soup.select_one(\".adListContainer\")\n",
    "all_items = items_div.select(\"div.item.clearfix\")\n",
    "items_list = []"
   ]
  },
  {
   "cell_type": "code",
   "execution_count": 66,
   "metadata": {
    "collapsed": false
   },
   "outputs": [],
   "source": [
    "item = all_items[8]\n",
    "section1 = item.div.select_one(\"section.nameSec\")\n",
    "section2 = item.div.select_one(\"section.priceSec\")\n",
    "section3 = item.div.select_one(\"section.viewsSec\")\n",
    "title = section1.div.a.text\n",
    "url = section1.div.a.attrs['href']\n"
   ]
  },
  {
   "cell_type": "code",
   "execution_count": 67,
   "metadata": {
    "collapsed": false
   },
   "outputs": [
    {
     "data": {
      "text/plain": [
       "'\\n\\t\\t\\t\\t\\t\\tKupujem\\n\\t\\t\\t\\t\\t'"
      ]
     },
     "execution_count": 67,
     "metadata": {},
     "output_type": "execute_result"
    }
   ],
   "source": [
    "price"
   ]
  },
  {
   "cell_type": "code",
   "execution_count": 57,
   "metadata": {
    "collapsed": false
   },
   "outputs": [
    {
     "name": "stdout",
     "output_type": "stream",
     "text": [
      "['Kupujem grafiÄ\\x8dku ddr3 ddr5', '\\n\\t\\t\\t\\t\\t\\tKupujem\\n\\t\\t\\t\\t\\t', '\\n\\t\\t\\t\\t\\t\\t\\n\\t\\t\\t\\t\\t\\tOtkup grafiÄ\\x8dkih ispravnih grafiÄ\\x8dkih ddr3 i ddr5. Kod tek otvorenog ...\\n\\t\\t\\t\\t\\t', '\\n\\t\\t\\t\\t\\t\\t288\\n\\n\\t\\t\\t\\t\\t\\t\\n(obnovljen)\\n\\t\\t\\t\\t\\t\\t\\t\\n\\t\\t\\t\\t\\t\\t\\tpre 2 nedelje\\n\\n', 'Kupujem-graficku-ddr3-ddr5-40751919-oglas.htm']\n",
      "<div class=\"item clearfix\" id=\"adDescription40751919\">\n",
      "<div class=\"clearfix\">\n",
      "<section class=\"imgSec\">\n",
      "<div class=\"adImgHolder\"><div class=\"imgAndBlurHolder\"><a href=\"Kupujem-graficku-ddr3-ddr5-40751919-oglas.htm\" onclick=\"return searchAdLinkClick(this.href, this);\" onmousedown1=\"return viewFormSubmit('40751919','Kupujem-graficku-ddr3-ddr5-40751919-oglas.htm',this);\"><div class=\"adImgWrapper\"><img alt=\"Kupujem grafiÄku ddr3 ddr5\" border=\"0\" src=\"//www.kupujemprodajem.com/photos/oglasi/9/91/40751919/tmb-150x150-40751919_585a1a56bda0d2-54693292Screenshot_18.png\"/></div></a><span class=\"blurry-bg\" style=\"background-image:url(//www.kupujemprodajem.com/photos/oglasi/9/91/40751919/tmb-150x150-40751919_585a1a56bda0d2-54693292Screenshot_18.png)\"></span></div></div>\n",
      "</section>\n",
      "<section class=\"nameSec\">\n",
      "<div style=\"position: relative; display: inline;\">\n",
      "<a class=\"adName\" href=\"Kupujem-graficku-ddr3-ddr5-40751919-oglas.htm\" onclick=\"return searchAdLinkClick(this.href, this);\" onmousedown1=\"return viewFormSubmit('40751919','Kupujem-graficku-ddr3-ddr5-40751919-oglas.htm',this);\">Kupujem grafiÄku ddr3 ddr5</a>\n",
      "</div>\n",
      "<div class=\"adDescription\">\n",
      "\t\t\t\t\t\t\n",
      "\t\t\t\t\t\tOtkup grafiÄkih ispravnih grafiÄkih ddr3 i ddr5. Kod tek otvorenog ...\n",
      "\t\t\t\t\t</div>\n",
      "</section>\n",
      "<div action-name=\"ad-actions\" ad-id=\"40751919\" class=\"ad-options \">\n",
      "<div action-item=\"follow\" class=\"ad-option following-false\">\n",
      "<span class=\"default\">\n",
      "<svg class=\"svg-icon icon-15x15\"><use xlink:href=\"/images/icons/icons-sprite.svg#star-outline\"></use></svg>\n",
      "\t\t\t\t\t\t\tPrati\n",
      "\t\t\t\t\t\t</span>\n",
      "<img class=\"loader\" src=\"images/ajax-loader.gif\">\n",
      "<span class=\"confirmation\">Dodato u <a href=\"/user.php?action=favorites\" onclick=\"location=this.href;\">Pratim</a>.</span>\n",
      "</img></div>\n",
      "<div action-item=\"unfollow\" class=\"ad-option following-true\">\n",
      "<span class=\"default\">\n",
      "<svg class=\"svg-icon icon-15x15\"><use xlink:href=\"/images/icons/icons-sprite.svg#star-fill\"></use></svg>\n",
      "\t\t\t\t\t\t\tPratim\n",
      "\t\t\t\t\t\t</span>\n",
      "<img class=\"loader\" src=\"images/ajax-loader.gif\">\n",
      "<span class=\"confirmation\">IzbaÄeno iz <a href=\"/user.php?action=favorites\" onclick=\"location=this.href;\">Pratim</a>.</span>\n",
      "</img></div>\n",
      "<div action-item=\"share\" class=\"ad-option share-option\" data-share-url=\"http://www.kupujemprodajem.com/Kupujem-graficku-ddr3-ddr5-40751919-oglas.htm\">\n",
      "<div class=\"trigger\">\n",
      "<svg class=\"svg-icon icon-15x15\"><use xlink:href=\"/images/icons/icons-sprite.svg#share-blue\"></use></svg>\n",
      "\t\t\t\t\t\t\tPodeli\n",
      "\t\t\t\t\t\t</div>\n",
      "<div class=\"copy-done-message bottom-arrow\">Link kopiran</div>\n",
      "<div action-name=\"share-menu\" class=\"pill-menu\">\n",
      "<a class=\"menu-link\" data-option=\"facebook\" href=\"javascript:;\"><svg class=\"svg-icon icon-15x15\"><use xlink:href=\"/images/icons/icons-sprite.svg#fb\"></use></svg> Facebook</a>\n",
      "<a class=\"menu-link\" data-option=\"twitter\" href=\"javascript:;\"><svg class=\"svg-icon icon-15x15\"><use xlink:href=\"/images/icons/icons-sprite.svg#twitter\"></use></svg> Twitter</a>\n",
      "<!-- <a href=\"javascript:;\" class=\"menu-link\" data-option=\"instagram\">Instagram</a> -->\n",
      "<a class=\"menu-link\" data-option=\"copy_to_clipboard\" href=\"javascript:;\"><svg class=\"svg-icon icon-15x15\"><use xlink:href=\"/images/icons/icons-sprite.svg#copy-link\"></use></svg> Kopiraj link</a>\n",
      "<textarea action-name=\"copytextholder\" class=\"pseudo-hidden\"></textarea>\n",
      "</div>\n",
      "</div>\n",
      "<div action-name=\"more-holder\" class=\"ad-option actions-option\">\n",
      "<div action-name=\"more-button\" class=\"trigger\">...</div>\n",
      "<div action-name=\"action-menu\" class=\"action-menu\">\n",
      "<!-- <a href=\"javascript:;\" action-item=\"follow\">Prati ovaj oglas</a> -->\n",
      "<!-- <a href=\"oglasi.php?action=send&ad_id=40751919\" action-item=\"friend\">PoÅ¡aljite prijatelju</a> -->\n",
      "<a action-item=\"report-category\" class=\"actionLink\" href=\"javascript:;\">PogreÅ¡na kategorija</a>\n",
      "<a action-item=\"report-rules\" class=\"actionLink\" href=\"javascript:;\">Protiv pravila</a>\n",
      "<a action-item=\"hide-user-ads\" href=\"javascript:;\">IgnoriÅ¡i sve oglase ovog korisnika</a>\n",
      "</div>\n",
      "</div>\n",
      "</div>\n",
      "<section class=\"priceSec\">\n",
      "<span class=\"adPrice\">\n",
      "\t\t\t\t\t\tKupujem\n",
      "\t\t\t\t\t</span>\n",
      "</section>\n",
      "<section class=\"viewsSec\">\n",
      "\t\t\t\t\t\t288\n",
      "\n",
      "\t\t\t\t\t\t<div class=\"date-posted\">\n",
      "<a href=\"aktivacija-usluga.htm\" style=\"color: #999999;\">(obnovljen)</a><br/>\n",
      "\t\t\t\t\t\t\t\n",
      "\t\t\t\t\t\t\tpre 2 nedelje<br/>\n",
      "</div>\n",
      "</section>\n",
      "<section class=\"locationSec\">\n",
      "\t\t\t\t\t\tBeograd | Zvezdara\n",
      "\t\t\t\t</section>\n",
      "<div class=\"adListPromoHolder\">\n",
      "<div class=\"adPromoHolder\"><a class=\"onTopLink\" href=\"promocije-oglasa.htm#na-vrh\" target=\"_blank\"><span></span>\n",
      "<div class=\"servicePromoTooltip\">VaÅ¡ oglas ispred drugih? Saznajte viÅ¡e.</div>\n",
      "</a></div>\n",
      "</div>\n",
      "</div>\n",
      "</div>\n"
     ]
    }
   ],
   "source": [
    "short_desc = section1.div.next_sibling.next_sibling.text\n",
    "price = section2.span.text\n",
    "address = section3.text\n",
    "print([title, price, short_desc, address, url])\n",
    "print(item)"
   ]
  },
  {
   "cell_type": "code",
   "execution_count": null,
   "metadata": {
    "collapsed": true
   },
   "outputs": [],
   "source": []
  }
 ],
 "metadata": {
  "anaconda-cloud": {},
  "kernelspec": {
   "display_name": "Python [conda root]",
   "language": "python",
   "name": "conda-root-py"
  },
  "language_info": {
   "codemirror_mode": {
    "name": "ipython",
    "version": 3
   },
   "file_extension": ".py",
   "mimetype": "text/x-python",
   "name": "python",
   "nbconvert_exporter": "python",
   "pygments_lexer": "ipython3",
   "version": "3.5.2"
  }
 },
 "nbformat": 4,
 "nbformat_minor": 2
}
